{
 "cells": [
  {
   "cell_type": "markdown",
   "id": "5f7f6d85-2ea8-499a-8322-ab6ecf80336e",
   "metadata": {},
   "source": [
    "### Introduction\n",
    "#### Motivations\n",
    "I am planning to conduct an analysis on particulate matter (PM10 and PM2.5) levels, also referred to as microdust or finedust  pollution, in South Korea because it presents as an increasingly prevalent issue. As I witness the environment become more damaged, I become increasingly concerned for my family that still live in Korea and worried for the planet in general. <br>\n",
    "\n",
    "The PM10 and PM2.5 issue addresses not only environmental but also public health concerns. Children in South Korea are growing up with health conditions like [asthma](https://www.iqair.com/south-korea/seoul) due to the pollution and many households use air purifiers which contribute to energy consumption. My nieces, both under the age of five, are moving to Seoul next month and they remind me of the numerous people I know in Korea who have come to normalize checking air quality apps as we would check the weather app. As I thought about this issue, I thought about the preventative measures citizens were taking and was reminded of the air purifiers. They are extremely large and can be the size of a small washing machine. Thinking how these mitigative technologies contribute to fossil fuel consumption made me view pollution as a continuous problem that must be addressed at the source to prevent its own exacerbation. <br>\n",
    "\n",
    "I hope to learn more about what patterns and trends related to PM10 and PM2.5, and the potential correlation between these observed pollution levels and asthma cases. <br>\n",
    "\n",
    "My research goal is to explore environmental issues beyond the United States by learning about the particulate matter pollution in Korea to better understand how it is potentially impacting the health of South Koreans."
   ]
  },
  {
   "cell_type": "markdown",
   "id": "0afc3eb8-22f9-4372-95dd-3cbf1b7e93a4",
   "metadata": {},
   "source": [
    "#### Background and Related Works\n",
    "South Korea suffers from microdust pollution, (초미세먼지/PM2.5; 미세먼지/PM10) also known as (fine) particulate matter, both are inhalable and can have adverse health effects. Long term exposure can result in asthma and heart disease (https://www.health.ny.gov/environmental/indoors/air/pmq_a.htm#:~:text=Exposure%20to%20fine%20particles%20can,as%20asthma%20and%20heart%20disease). Microdust pollution can also negatively affect the air quality. As a result, various South Korean governmental agencies have been monitoring pollution levels across the country to assess air quality. \n",
    "\n",
    "The air quality index (AQI) which distinguishes between healthy and unhealthy levels of air quality is measured using a variety of air pollutants, not just fine particulate matter and particulate matter (also translated as microdust pollution from Korean). However, there has yet to be such governmental focuses on solely particulate matter pollution. For this project, I would like to focus on microdust pollution in particular to examine the prevalence of this inhalable partiuclate matter. \n",
    "\n",
    "**https://www.iqair.com/us/south-korea/seoul** <br>\n",
    "IQ Air provides an information resource that illustrates the current air quality in various cities across South Korea, the types of pollutants and their concentrations, and trends of the pollution levels across time. This site also alerts to other impacts on air pollution such as fires- therefore not solely focusing on microdust pollutants. \n",
    "\n",
    "**https://www.airkorea.or.kr/web** <br>\n",
    "Air Korea is a project operated by the South Korean government's Korean Ministry of Environment (MOE). The site provides various visualizations and filtering tools for users to select the most prevalent information to them. It is concerned with monitoring air quality as a whole in order to inform the public into making safer decisions for their health. <br>\n",
    "\n",
    "These sources contain visualizations that help me better contextualize what has been visualized so far and what I would like to do differently. What hasn't been emphasized is the change in particulate matter (PM) concentrations in air in South Korea. Additionally, there hasn't been a visualization that illustrates the long-term trend of PM in South Korea. Therefore, I think that focusing on this gap in knowledge would be beneficial to understanding how PM is changing and its potential to inform the public of its prevalence to air pollution and public health."
   ]
  },
  {
   "cell_type": "markdown",
   "id": "301069a8-a34b-4208-bc82-41654bced76e",
   "metadata": {},
   "source": [
    "### Data \n",
    "Both datasets used were provided by [data.go.kr](www.data.go.kr), the South Korean government's official open data website. <br>\n",
    "_If opening these datasets in Excel, it is important to note that you have to change the encoding to Korean (the encoding is called \"Korean\") in order to be able to read and then translate the values. (A more detailed description of this process can be found in the README file of this project)._ <br>\n",
    "\n",
    "#### First Dataset: \"Seoul Capital City (micro)Dust Pollution by Hour\" (서울특별시_시간별 (초)미세먼지) <br>\n",
    "**Link to dataset:** https://www.data.go.kr/data/15089266/fileData.do <br>\n",
    "\n",
    "The first dataset, collected by the Seoul City Government, measured the levels of PM10 and PM2.5 pollution from 2008 to 2021 across the 25 districts in Seoul split across four files (2008-2011, 2012-2015, 2016-2019, 2020-2021). Additionally, it reports the aggregated averages of the districts across this time period. The dataset is free and appears to be under an open license (Creative Commons License and open Korean licensing system which allows for commercial use (공공누리)) but specifies that it cannot be used for administrative purposes. I believe this is due to it being research conducted by the South Korean government. <br>\n",
    "\n",
    "The dataset contains the fields (from left to right when opened in Excel):\n",
    "- Date (this is recorded 24 times each day for all 25 districts)\n",
    "- District name\n",
    "- PM10 level\n",
    "- PM2.5 level <br>\n",
    "\n",
    "As Seoul is the capital of South Korea, not only does this make Seoul one of the best sources for documentation but also a realistic reflection of South Korean particulate matter pollution levels in general as it is an urban center. <br>\n",
    "\n",
    "This dataset is suitable for my research goal as it contains the microdust levels from January 2008 to May 2021. Although it only records Seoul, it is still demonstrative of how severe microdust pollution is as South Korea is a small country and data collected in Seoul will be fairly representative of South Korea as a whole. <br>\n",
    "\n",
    "When working with this dataset, it is important to refrain from extrapolating conclusions as to what is causing the microdust pollution as this data fails to reveal that and some reasons as presented in current online sources could be politically motivated or exaggerated. Since this data does not tell us what the causes or sources of microdust pollution is, it is unfair and therefore unethical to use it as evidence to identify a source of the pollution.\n",
    "\n",
    "#### Second dataset: \"National Health Insurance Service Disease Prediction Information\" (국민건강보험공단 질병예측 정보) <br>\n",
    "**Link to dataset:** https://www.data.go.kr/data/15083145/fileData.do <br>\n",
    "\n",
    "The second dataset I used contained ten files with information about the number of reported cases of pink eye, asthma, dermatitis, and cold across South Korea from 2014-(June) 2021 collected by the National Health Insurance Corporation (of South Korea). It is meant to create a predictor or indicator for these four diseases and relate it to geospatial data. The dataset is free to use and does not indicate any restrictions of use \"이용허락범위 제한 없음\" at the bottom of the page means \"no scope of use restrictions.\" <br>\n",
    "As my project was focused on respiratory conditions, only four files were relevant to my project:\n",
    "- 시군구 지역코드 (City District Zone Code) _the zone codes were used throughout the dataset to denote certain cities and districts_\n",
    "- 시도 지역코드 (City Zone Code)\n",
    "- 진료정보_천식_시군구 (Medical information _ Asthma _ City District)\n",
    "- 진료정보_천식_시도 (Medical information _ Asthma _ City) <br>\n",
    "\n",
    "Of these datasets, I used the files pertaining to Seoul and the reported asthma cases. For the \"Medicalinformation_Asthma_CityDistrict\" file, the fields read from left to right are: Date, District code, Number of cases. For the \"Medicalinformation_Asthma_City\" file, the fields read from left to right are: Date, City, Number of cases. For both city and district encoding files, the field with the number will denote the city or district code and then the written characters represent the name of the city or the district. <br>\n",
    "\n",
    "This dataset recorded the number of cases reported by district in Seoul which aligned with how data was recorded in the first dataset. Therefore, I would be able to not only look at data for Seoul but also compare across districts as well. <br>\n",
    "\n",
    "The dataset protects the privacy of the individuals, but due to that we lose out on much of the demographic data such as age and sex that could warrant further reseach. By providing anonymity, we are unable to make otherwise important distinctions (there is a smoking culture in Korea that typically affects men more directly than women). Additionally, much like how the first dataset cannot be used to discern certain causal relationships, this dataset cannot definitively attribute the reported asthma cases to particulate matter pollution. There are a variety of causes that trigger asthma in an individual and it cannot be fair to draw a causal relationship between PMM10 and PM2.5 as the sole cause of asthma in these individuals. "
   ]
  },
  {
   "cell_type": "markdown",
   "id": "427ff171-d230-4f64-9426-aede46b21a60",
   "metadata": {},
   "source": [
    "### Analysis\n",
    "#### Research Questions\n",
    "Using this data, I hope to explore how microdust pollution affects Seoul, South Korea. In particular, I am looking to ask:<br>\n",
    "\n",
    "*How has microdust pollution in Seoul, South Korea changed over time?* <br>\n",
    "*Which district of Seoul, South Korea experiences the highest levels of microdust pollution?* <br>\n",
    "*How might microdust pollution be correlated with the number of asthma cases observed these districts?*\n"
   ]
  },
  {
   "cell_type": "markdown",
   "id": "c8baa762-083a-4ad9-9c6c-25b3d8268e40",
   "metadata": {
    "tags": []
   },
   "source": [
    "#### Methodology \n",
    "I plan to use summary statistics to investigate the temporal data. I will be using scatterplots to demonstrate the pattern of changing PM10 and PM2.5 levels as this type of graph is most conducive to presenting differences in microdust pollution levels across different districts in Seoul across time. I would be looking at which districts experience the most and least levels of microdust pollution. I will be focusing on temporality, changes of pollution levels over time, which would also be best visualized through a scatterplot. It would be helpful to use visualizations to present my findings as it makes it easier for the audience to compare across districts and understand changes over time. <br>\n",
    "\n",
    "Due to the data being collected across a span of 13 years, it feels fitting to illustrate the data temporally. By looking at the data across this long period of time, we will be able to account for seasonality and identify long-term trends in the changes of microdust pollution levels across time. <br>\n",
    "\n",
    "In order to investigate my third question, I will be running a linear regression on a cleaned dataset containing the date, PM10 and PM2.5 levels, the district, and the number of reported cases of asthma. The regression will run asthma cases on PM10 and PM2.5 levels to see if there is a statistically significant correlation between particulate matter pollution and asthma cases in their respective districts in Seoul. "
   ]
  },
  {
   "cell_type": "markdown",
   "id": "8c9e2e5a-439a-476e-b9e8-cd064292cc1c",
   "metadata": {},
   "source": [
    "#### Code \n",
    "For my data wrangling and analysis, I used R and Excel. There is a lot of cleaning that has to be done of the data since we are merging two datasets with differing time periods, types of variables, and overall structure. <br>\n",
    "\n",
    "I will be including all data files I translated using Excel since it deals with changing the encoding of the file and changing the header names to English, that way the ensuing code is easier to follow. All files are uploaded and should be findable in GitHub repository, I will also be referring to them by name to make following along. All I have done to these files is change the encoding to Korean (because it will download with broken fields and values), translate the header names to English (literal translation), and then for the \"seoul air pollution\" files I used find and replace in Excel to manually change the district names from Korean to English. All districts are followed by a \"Gu\" suffix (which means district) and I removed this since it is not necessary for understanding or analysis but kept it for \"Junggu\" district. The same naming structure is kept consistent between all files (all seoul air pollution, asthma city, asthma district). I have also included the files for the different city and district codings (to be able to translate the asthma dataset from numbers to names) but as most of them are irrelevant and contain much more than just Seoul data, that file is properly encoded to Korean but untranslated. <br> \n",
    "\n",
    "_Additionally, I followed as conventional spelling of the Korean district names as I could when translating, but there may be variations between mine and the South Korean government's translations._ <br>"
   ]
  },
  {
   "cell_type": "markdown",
   "id": "c855a82d-6123-4faf-893a-89e9d8843d3b",
   "metadata": {},
   "source": [
    "#### My code: \n",
    "All of the code used is written in R (R Studio) and available through the provided _hcde final project code_ R markdown file.<br>\n",
    "I created all visualizations in Excel using the dataframes I made in RStudio by exporting them with the write.csv() function. "
   ]
  },
  {
   "cell_type": "markdown",
   "id": "22c41495-3888-427d-989c-a13d866346d3",
   "metadata": {},
   "source": [
    "### Findings\n",
    "**Question 1: *How has microdust pollution in Seoul, South Korea changed over time?*** <br>\n",
    "We will first look at particulate matter 10 or PM10. When looking at \"seoulmonthlypm10bar\" and \"seoulmonthlypm10line\" visualizations, you see that overall average PM10 levels are decreasing. You can also see over time that overall average PM2.5 levels are also decreasing but are less than PM10 levels (the vertical axis for PM2.5 only goes up to 60 while for PM10 it goes up to 120). However, if you look at the pure sum of the PM10 levels in \"seoulsumpm10level\" the PM10 levels are rising again but this could also be affected by PivotChart (read Discussion section for a detailed description) or the fact that a sum would not equalize like an average would. For example, if one district produced much more PM10 than usual in a certain month, that would affect the average count less than a sum count. We can see that in both \"seoulsumpm10level\" and \"seoulsumpm25level\" Youngdeungpo district is one of the top producers of PM10 and PM2.5 and famous shopping districts like Gangnam are not leaders in particulate matter production. <br>\n",
    "\n",
    "It is particularly shocking to see this pattern as I had expected to see PM10 and PM2.5 to rise over time. I believed this because we tend to see increasing energy consumption as time goes on. I wonder if there was any environmental legislation or other factors to have caused this outcome. For example, if you look at \"seoulmonthlypm10\" you can see a large spike in the beginning of 2015. I'm not sure what happened during that time but it is interesting to see that overall, levels of PM10 are decreasing. PM2.5 seems to be following its natural pattern and staying within its usual seasonal levels where there is more production during colder months and less production during hotter months. <br>\n",
    "\n",
    "Something else to note, is that I stopped the time range of the data right before COVID-19 hit in the US. South Korea began seeing their first cases a few months earlier, around January 2020 which is when my graphs end. It would have been interesting to see if there was a significant increase in particulate matter production as everyone is quarantining at home and likely consuming more fossil fuels. Perhaps in the future, I can look at the correlation between COVID-19 quarantining and PM10 and PM2.5 production. <br>\n",
    "\n",
    "**Question 2: *Which district of Seoul, South Korea experiences the highest levels of microdust pollution?*** <br>\n",
    "We see Mapo district (the yellow) be a distinct peak in 2017 for PM2.5 levels in the \"seoulmonthlypm25bar.\" This is also observed for Yongsan in 2018 and Youngdeungpo in 2019. For PM10, \"seoulmonthlypm10bar\" shows that Jongro district in 2015 was the highest peak of the entire graph. Yongsan district was the most recent peak in the beginning of 2021. I'm not familiar with any of the districts and their special industries or what might have caused these spikes but again, it is interesting that the most famous districts like Gangnam and Dongdaemun are not the leading producers of particulate matter pollution. I am also assuming that these districts are most affected by particulate matter that they themselves produce and not considering geographical influences that might impact their observed PM pollution levels such as microdust that blows over from other countries.  \n",
    "\n",
    "**Question 3: *How might microdust pollution be correlated with the number of asthma cases observed these districts?*** <br>\n",
    "I ran three total regressions. One was average reported asthma cases on both average levels of PM10 and PM2.5, the second was on just PM10, and the final was on just PM2.5. <br>\n"
   ]
  },
  {
   "cell_type": "markdown",
   "id": "c3a4f8d8-a768-4db4-a287-00ba94605c8c",
   "metadata": {},
   "source": [
    "### Discussion (Limitations & Implications)\n",
    "Firstly, the data wrangling and cleaning process was extremely difficult as the \"seoul air pollution\" files were considered big data, it was difficult to know exactly what went wrong or how to fix things quickly if they did due to the sheer size of the file. This caused particular issues when creating data visualizations for my first two questions. <br> \n",
    "\n",
    "In order to create time series graphs, I had to use a function in Excel (Google sheets didn't support my datasets due to size and I couldn't edit the axes correctly) called PivotTable and PivotChart. These functions failed for some of the visualizations in that they were able to separate values associated with certain districts but would calculate some of the aggregate values incorrectly, for example lumping all January's together instead of separating by year I am guessing due to the size of the file (being over a million rows long). I had tried to add a year filter to when creating the PivotCharts, but it only lumped all years of that one month together, disrupting the linear flow. I hadn't realized that my table in my dataframes were formatted incorrectly for a timeseries graph containing multiple lines (one line indicating one district) until it was too late to change it (because of the size of the dataframe) because I merely followed the structure of the original datasets. <br>\n",
    "\n"
   ]
  },
  {
   "cell_type": "markdown",
   "id": "240cec98-b25a-4603-bc07-fd8bd44ec732",
   "metadata": {},
   "source": [
    "### Conclusion"
   ]
  }
 ],
 "metadata": {
  "kernelspec": {
   "display_name": "Python 3 (ipykernel)",
   "language": "python",
   "name": "python3"
  },
  "language_info": {
   "codemirror_mode": {
    "name": "ipython",
    "version": 3
   },
   "file_extension": ".py",
   "mimetype": "text/x-python",
   "name": "python",
   "nbconvert_exporter": "python",
   "pygments_lexer": "ipython3",
   "version": "3.9.7"
  }
 },
 "nbformat": 4,
 "nbformat_minor": 5
}
