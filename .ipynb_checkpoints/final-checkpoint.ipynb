{
 "cells": [
  {
   "cell_type": "markdown",
   "id": "5f7f6d85-2ea8-499a-8322-ab6ecf80336e",
   "metadata": {
    "tags": []
   },
   "source": [
    "### Introduction\n",
    "#### Motivations\n",
    "I am planning to conduct an analysis on particulate matter (PM10 and PM2.5) levels, also referred to as microdust or finedust  pollution, in South Korea because it presents as an increasingly prevalent issue. As I witness the environment become more damaged, I become increasingly concerned for my family that still live in Korea and worried for the planet in general. <br>\n",
    "\n",
    "The PM10 and PM2.5 issue addresses not only environmental but also public health concerns. Children in South Korea are growing up with health conditions like [asthma](https://www.iqair.com/south-korea/seoul) due to the pollution and many households use air purifiers which contribute to energy consumption. My nieces, both under the age of five, are moving to Seoul next month and they remind me of the numerous people I know in Korea who have come to normalize checking air quality apps as we would check the weather app. As I thought about this issue, I thought about the preventative measures citizens were taking and was reminded of the air purifiers. They are extremely large and can be the size of a small washing machine. Thinking how these mitigative technologies contribute to fossil fuel consumption made me view pollution as a continuous problem that must be addressed at the source to prevent its own exacerbation. <br>\n",
    "\n",
    "Through this project, I hope to learn more about what patterns and trends related to PM10 and PM2.5, and the potential correlation between these observed particulate matter pollution levels and asthma cases. <br>\n",
    "\n",
    "My research goal is to explore an environmental issue beyond the United States by learning about the particulate matter pollution in Korea to better understand how it is potentially impacting the health of South Koreans. I am interested in this because I want to utilize my cultural background and language skills to find data that we have not previously interacted with during my education to come to interesting conclusions. "
   ]
  },
  {
   "cell_type": "markdown",
   "id": "0afc3eb8-22f9-4372-95dd-3cbf1b7e93a4",
   "metadata": {},
   "source": [
    "#### Background and Related Works\n",
    "South Korea suffers from microdust pollution, (초미세먼지/PM2.5; 미세먼지/PM10) also known as (fine) particulate matter, both are inhalable and can have adverse health effects. Long term exposure can result in asthma and heart disease (https://www.health.ny.gov/environmental/indoors/air/pmq_a.htm#:~:text=Exposure%20to%20fine%20particles%20can,as%20asthma%20and%20heart%20disease). Microdust pollution can also negatively affect the air quality. As a result, various South Korean governmental agencies have been monitoring pollution levels across the country to assess air quality. \n",
    "\n",
    "The air quality index (AQI) which distinguishes between healthy and unhealthy levels of air quality is measured using a variety of air pollutants, not just fine particulate matter and particulate matter (also translated as microdust pollution from Korean). However, there has yet to be such governmental focuses on solely particulate matter pollution. For this project, I would like to focus on microdust pollution in particular to examine the prevalence of this inhalable partiuclate matter. \n",
    "\n",
    "**https://www.iqair.com/us/south-korea/seoul** <br>\n",
    "IQ Air provides an information resource that illustrates the current air quality in various cities across South Korea, the types of pollutants and their concentrations, and trends of the pollution levels across time. This site also alerts to other impacts on air pollution such as fires- therefore not solely focusing on microdust pollutants. \n",
    "\n",
    "**https://www.airkorea.or.kr/web** <br>\n",
    "Air Korea is a project operated by the South Korean government's Korean Ministry of Environment (MOE). The site provides various visualizations and filtering tools for users to select the most prevalent information to them. It is concerned with monitoring air quality as a whole in order to inform the public into making safer decisions for their health. <br>\n",
    "\n",
    "These sources contain visualizations that help me better contextualize what has been visualized so far and what I would like to do differently. What has yet to be focused on is the change in particulate matter (PM) concentrations in the air in South Korea. Additionally, there hasn't been a visualization that illustrates the long-term trend of PM in South Korea. Therefore, I think that focusing on this gap in knowledge would be beneficial to understanding how PM is changing and its potential to inform the public of its prevalence to air pollution and public health."
   ]
  },
  {
   "cell_type": "markdown",
   "id": "301069a8-a34b-4208-bc82-41654bced76e",
   "metadata": {},
   "source": [
    "### Data \n",
    "Both datasets used were provided by [data.go.kr](www.data.go.kr), the South Korean government's official open data website. <br>\n",
    "_If opening these datasets in Excel, it is important to note that you have to change the encoding to Korean (the encoding is called \"Korean\") in order to be able to read and then translate the values. (A more detailed description of this process can be found in the README file of this project)._ <br>\n",
    "\n",
    "#### First Dataset: \"Seoul Capital City (micro)Dust Pollution by Hour\" (서울특별시_시간별 (초)미세먼지) <br>\n",
    "**Link to dataset:** https://www.data.go.kr/data/15089266/fileData.do <br>\n",
    "\n",
    "The first dataset, collected by the Seoul City Government, measured the levels of PM10 and PM2.5 pollution from 2008 to 2021 across the 25 districts in Seoul split across four files (2008-2011, 2012-2015, 2016-2019, 2020-2021). Additionally, it reports the aggregated averages of the districts across this time period. The dataset is free and appears to be under an open license (Creative Commons License and open Korean licensing system which allows for commercial use (공공누리)) but specifies that it cannot be used for administrative purposes. I believe this is due to it being research conducted by the South Korean government. <br>\n",
    "\n",
    "The dataset contains the fields (from left to right when opened in Excel):\n",
    "- Date (this is recorded 24 times each day for all 25 districts)\n",
    "- District name\n",
    "- PM10 level\n",
    "- PM2.5 level <br>\n",
    "\n",
    "As Seoul is the capital of South Korea, not only does this make Seoul one of the best sources for documentation but also a realistic reflection of South Korean particulate matter pollution levels in general as it is an urban center. <br>\n",
    "\n",
    "This dataset is suitable for my research goal as it contains the microdust levels from January 2008 to May 2021. Although it only records Seoul, it is still demonstrative of how severe microdust pollution is as South Korea is a small country and data collected in Seoul will be fairly representative of South Korea as a whole. <br>\n",
    "\n",
    "When working with this dataset, it is important to refrain from extrapolating conclusions as to what is causing the microdust pollution as this data fails to reveal that and some reasons as presented in current online sources could be politically motivated or exaggerated. Since this data does not tell us what the causes or sources of microdust pollution is, it is unfair and therefore unethical to use it as evidence to identify a source of the pollution.\n",
    "\n",
    "#### Second dataset: \"National Health Insurance Service Disease Prediction Information\" (국민건강보험공단 질병예측 정보) <br>\n",
    "**Link to dataset:** https://www.data.go.kr/data/15083145/fileData.do <br>\n",
    "\n",
    "The second dataset I used contained ten files with information about the number of reported cases of pink eye, asthma, dermatitis, and cold across South Korea from 2014-(June) 2021 collected by the National Health Insurance Corporation (of South Korea). It is meant to create a predictor or indicator for these four diseases and relate it to geospatial data. The dataset is free to use and does not indicate any restrictions of use \"이용허락범위 제한 없음\" at the bottom of the page means \"no scope of use restrictions.\" <br>\n",
    "As my project was focused on respiratory conditions, only four files were relevant to my project:\n",
    "- 시군구 지역코드 (City District Zone Code) _the zone codes were used throughout the dataset to denote certain cities and districts_\n",
    "- 시도 지역코드 (City Zone Code)\n",
    "- 진료정보_천식_시군구 (Medical information _ Asthma _ City District)\n",
    "- 진료정보_천식_시도 (Medical information _ Asthma _ City) <br>\n",
    "\n",
    "Of these datasets, I used the files pertaining to Seoul and the reported asthma cases. For the \"Medicalinformation_Asthma_CityDistrict\" file, the fields read from left to right are: Date, District code, Number of cases. For the \"Medicalinformation_Asthma_City\" file, the fields read from left to right are: Date, City, Number of cases. For both city and district encoding files, the field with the number will denote the city or district code and then the written characters represent the name of the city or the district. <br>\n",
    "\n",
    "This dataset recorded the number of cases reported by district in Seoul which aligned with how data was recorded in the first dataset. Therefore, I would be able to not only look at data for Seoul but also compare across districts as well. <br>\n",
    "\n",
    "The dataset protects the privacy of the individuals, but due to that we lose out on much of the demographic data such as age and sex that could warrant further reseach. By providing anonymity, we are unable to make otherwise important distinctions (there is a smoking culture in Korea that typically affects men more directly than women). Additionally, much like how the first dataset cannot be used to discern certain causal relationships, this dataset cannot definitively attribute the reported asthma cases to particulate matter pollution. There are a variety of causes that trigger asthma in an individual and it cannot be fair to draw a causal relationship between PMM10 and PM2.5 as the sole cause of asthma in these individuals. "
   ]
  },
  {
   "cell_type": "markdown",
   "id": "427ff171-d230-4f64-9426-aede46b21a60",
   "metadata": {},
   "source": [
    "### Analysis\n",
    "#### Research Questions\n",
    "Using this data, I hope to explore how microdust pollution affects Seoul, South Korea. In particular, I am looking to ask:<br>\n",
    "\n",
    "*How has microdust pollution in Seoul, South Korea changed over time?* <br>\n",
    "*Which district of Seoul, South Korea experiences the highest levels of microdust pollution?* <br>\n",
    "*How might microdust pollution be correlated with the number of asthma cases observed these districts?*\n"
   ]
  },
  {
   "cell_type": "markdown",
   "id": "c8baa762-083a-4ad9-9c6c-25b3d8268e40",
   "metadata": {
    "tags": []
   },
   "source": [
    "#### Methodology \n",
    "I plan to use summary statistics to investigate the temporal data. I will be using scatterplots to demonstrate the pattern of changing PM10 and PM2.5 levels as this type of graph is most conducive to presenting differences in microdust pollution levels across different districts in Seoul across time. I would be looking at which districts experience the most and least levels of microdust pollution. I will be focusing on temporality, changes of pollution levels over time, which would also be best visualized through a scatterplot. It would be helpful to use visualizations to present my findings as it makes it easier for the audience to compare across districts and understand changes over time. <br>\n",
    "\n",
    "Due to the data being collected across a span of 13 years, it feels fitting to illustrate the data temporally. By looking at the data across this long period of time, we will be able to account for seasonality and identify long-term trends in the changes of microdust pollution levels across time. <br>\n",
    "\n",
    "In order to investigate my third question, I will be running a linear regression on a cleaned dataset containing the date, PM10 and PM2.5 levels, the district, and the number of reported cases of asthma. The regression will run asthma cases on PM10 and PM2.5 levels to see if there is a statistically significant correlation between particulate matter pollution and asthma cases in their respective districts in Seoul. "
   ]
  },
  {
   "cell_type": "markdown",
   "id": "8c9e2e5a-439a-476e-b9e8-cd064292cc1c",
   "metadata": {},
   "source": [
    "#### Code \n",
    "For my data wrangling and analysis, I used R and Excel. There is a lot of cleaning that has to be done of the data since we are merging two datasets with differing time periods, types of variables, and overall structure. <br>\n",
    "\n",
    "I will be including all data files I translated using Excel since it deals with changing the encoding of the file and changing the header names to English, that way the ensuing code is easier to follow. All files are uploaded and should be findable in GitHub repository, I will also be referring to them by name to make following along. All I have done to these files is change the encoding to Korean (because it will download with broken fields and values), translate the header names to English (literal translation), and then for the \"seoul air pollution\" files I used find and replace in Excel to manually change the district names from Korean to English. All districts are followed by a \"Gu\" suffix (which means district) and I removed this since it is not necessary for understanding or analysis but kept it for \"Junggu\" district. The same naming structure is kept consistent between all files (all seoul air pollution, asthma city, asthma district). I have also included the files for the different city and district codings (to be able to translate the asthma dataset from numbers to names) but as most of them are irrelevant and contain much more than just Seoul data, that file is properly encoded to Korean but untranslated. <br> \n",
    "\n",
    "_Additionally, I followed as conventional spelling of the Korean district names as I could when translating, but there may be variations between mine and the South Korean government's translations._ <br>"
   ]
  },
  {
   "cell_type": "markdown",
   "id": "c855a82d-6123-4faf-893a-89e9d8843d3b",
   "metadata": {},
   "source": [
    "#### My code: \n",
    "All of the code used is written in R (R Studio) and available through the provided _hcde final project code_ R markdown file.<br>\n",
    "I created all visualizations in Excel using the dataframes I made in RStudio by exporting them with the write.csv() function. "
   ]
  },
  {
   "cell_type": "markdown",
   "id": "22c41495-3888-427d-989c-a13d866346d3",
   "metadata": {},
   "source": [
    "### Findings\n",
    "**Question 1: *How has microdust pollution in Seoul, South Korea changed over time?*** <br>\n",
    "_In general, the levels of particulate matter are decreasing across Seoul._ <br>\n",
    "\n",
    "We will first look at particulate matter 10 or PM10. When looking at \"seoulmonthlypm10bar\" and \"seoulmonthlypm10line\" visualizations, you see that overall average PM10 levels are decreasing. You can also see over time that overall average PM2.5 levels are also decreasing but are less than PM10 levels (the vertical axis for PM2.5 only goes up to 60 while for PM10 it goes up to 120). However, if you look at the pure sum of the PM10 levels in \"seoulsumpm10level\" the PM10 levels are rising again but this could also be affected by PivotChart (read Discussion section for a detailed description) or the fact that a sum would not equalize like an average would. For example, if one district produced much more PM10 than usual in a certain month, that would affect the average count less than a sum count. We can see that in both \"seoulsumpm10level\" and \"seoulsumpm25level\" Youngdeungpo district is one of the top producers of PM10 and PM2.5 and famous shopping districts like Gangnam are not leaders in particulate matter production. <br>\n",
    "\n",
    "It is particularly shocking to see this pattern as I had expected to see PM10 and PM2.5 to rise over time. I believed this because we tend to see increasing energy consumption as time goes on. I wonder if there was any environmental legislation or other factors to have caused this outcome. For example, if you look at \"seoulmonthlypm10\" you can see a large spike in the beginning of 2015. I'm not sure what happened during that time but it is interesting to see that overall, levels of PM10 are decreasing. PM2.5 seems to be following its natural pattern and staying within its usual seasonal levels where there is more production during colder months and less production during hotter months. <br>\n",
    "\n",
    "Something else to note, is that I would have expected there to be a significant peak in early 2020 when South Korea first saw COVID-19 cases and went into quarantine. However, when looking at \"seoulmonthlypm25bar\" and \"seoulmonthlypm10\" this isn't the case at all. I wonder why this is, especially because quarantine restrictions were extremely strict in South Korea meaning that citizens were actually home. I wonder if this observed pattern is affected by true causes of particulate matter and what those are. We know that PM can be caused by construction sites, energy consumption, among other sources but it is interesting that early 2020 was not the spike in PM that I was expecting since energy consumption is a leading cause of PM. <br>\n",
    "\n",
    "**Question 2: *Which district of Seoul, South Korea experiences the highest levels of microdust pollution?*** <br>\n",
    "_There isn't a consistent district that can be identified as a leader in microdust pollution. It varies by year and when we look at averages versus sums of particulate matter levels._ <br>\n",
    "\n",
    "We see Mapo district (the yellow) be a distinct peak in 2017 for PM2.5 levels in the \"seoulmonthlypm25bar.\" This is also observed for Yongsan in 2018 and Youngdeungpo in 2019. For PM10, \"seoulmonthlypm10bar\" shows that Jongro district in 2015 was the highest peak of the entire graph. Yongsan district was the most recent peak in the beginning of 2021. I'm not familiar with any of the districts and their special industries or what might have caused these spikes but again, it is interesting that the most famous districts like Gangnam and Dongdaemun are not the leading producers of particulate matter pollution. I am also assuming that these districts are most affected by particulate matter that they themselves produce and not considering geographical influences that might impact their observed PM pollution levels such as microdust that blows over from other countries. <br>\n",
    "\n",
    "All in all, we can see that there is no one, or even a few, district(s) that we can definitively identify as consistently having high levels of particulate matter across time. There are inconsistent spikes from 2014 to 2021, but the district with the greatest PM levels vary constantly. <br>\n",
    "\n",
    "**Question 3: *How might microdust pollution be correlated with the number of asthma cases observed these districts in Seoul?*** <br>\n",
    "_By running a linear regression, we can see that the number of observed asthma cases across Seoul districts and the recorded levels of PM10 and PM2.5 are positively correlated._ <br>\n",
    "\n",
    "I ran three total regressions. One was average reported asthma cases on both average levels of PM10 and PM2.5, the second was on just PM10, and the final was on just PM2.5. <br>\n",
    "\n",
    "The p-values for all regressions were statistically significant denoting that there is a statistically significant correlation between the average number of asthma cases reported and the average levels of particulate matter (PM10 and PM2.5) observed in those districts. (This is discussed further in the Discussion section). This confirmed by hypothesis that environmental factors like particulate matter pollution would affect the number of asthma cases observed. <br>\n",
    "\n",
    "Some notable differences between the three regressions was that the regression on just average PM10 levels had a smaller coefficient than the average PM2.5 levels. Perhaps this difference is seen because PM2.5 is smaller in size and therefore more inhalable than PM10 making it more attributable to respiratory conditions? If you look at \"asthma line\" which illustrates the aggregated number of observed asthma cases for all of Seoul, like the particulate matter levels, you see a downward trend in asthma cases. Again, I'm unsure as to if there was effective environmental legislation enacted or effective green technology that significantly affected the downward trend we see for both particulate matter and asthma. <br>\n"
   ]
  },
  {
   "cell_type": "markdown",
   "id": "c3a4f8d8-a768-4db4-a287-00ba94605c8c",
   "metadata": {},
   "source": [
    "### Discussion (Limitations & Implications)\n",
    "#### Challenges \n",
    "Firstly, the data wrangling and cleaning process was extremely difficult as the \"seoul air pollution\" files were considered big data, it was difficult to know exactly what went wrong or how to fix things quickly if they did due to the sheer size of the file. This caused particular issues when creating data visualizations for my first two questions. <br> \n",
    "\n",
    "In order to create the time series graphs, I had to use a function in Excel (Google sheets didn't support my datasets due to size and I couldn't edit the axes correctly) called PivotTable and PivotChart which help reformat tables. These functions failed for some of the visualizations in that they were able to separate values associated with certain districts but would calculate some of the aggregate values incorrectly, for example lumping all January's together instead of separating by year I am guessing due to the size of the file (being over a million rows long). I had tried to add a year filter to when creating the PivotCharts, but it only lumped all years of that one month together, disrupting the linear flow. It could also be that for averages in PivotChart, it was averaging by all of the same months instead of by year, wich is why I saw such weird x-axes for the daily data visualizations. Essentially, I hadn't realized that my table in my dataframes were formatted incorrectly for a timeseries graph, because I merely followed the structure of the original datasets, containing multiple lines (one line indicating one district) until it was too late to change it (because of the size of the dataframe). Additonally, the files were often too large for it to visualize in either Google Sheets or Excel, making it difficult to manipulate the visualizations into something that I wanted exactly. <br>\n",
    "\n",
    "#### Results\n",
    "As for my research questions, my findings surprised me. I expected the levels of particulate matter to be increasing because that is what I felt I observed with the thickening smog and with what I heard from friends and family living in South Korea. Beyond seasonality, we could see that the levels of particulate matter in South Korea were decreasing (at least before 2021). However, it was interesting to see that reported asthma cases in Seoul also decreased which followed the downward trend of PM in Seoul. This aligned with my hypothesis that respiratory conditions like asthma would be correlated with inhalable pollution like PM10 and PM2.5. Additionally, I found it interesting that sum and averages of demonstrated such different shapes of the data. With sum of monthly data, we saw that PM levels were increasing and for averages of monthly data we saw that PM levels were decreasing (in general). I hypothesized that this is because averages penalize outliers such as in situations in which a particular district is observing more PM than usual whereas a sum would not standardize that and would actually be greatly affected by that unusual increase. <br>\n",
    "\n",
    "#### Limitations\n",
    "Firstly, it is beyond the scope of the data to fully attribute the cause of asthma cases to particulate matter pollution. There are a variety of factors that contribute to an individual developing asthma and to solely correlate PM with asthma would be an inaccurate and unrealistic correlation. Additionally, since I combined two datasets for my correlation, because the data was not collected in the same research there could be potential issues with the correlative nature of the data points across those two datasets. <br>\n",
    "\n",
    "Secondly, we fail to obtain demographic data in the asthma datasets and it also does not indicate the age range or distribution of gender. This is important as the smoking culture in South Korea disproportionately affects men, so if there are a skewed distribution of men developing asthma (stressing the importance that asthma can be triggered by a variety of genetic, lifestyle,  environmental factors) then that would not only lessen the strength of correlation between asthma and PM but also may warrant different research questions asked that would explore demographic distributions. Also, your age can greatly affect your probability of developing asthma due to environmental factors, so lacking the age information in this dataset causes us to not know if children (who are not likely to be victims of firsthand/secondhand smoking) could be good indicators of the correlation between asthma and PM pollution. <br> \n",
    "\n",
    "Thirdly, there is more research to be conducted. I was unable to know of the particular factors that would influence why we see certain districts experience greater levels of PM than another. Knowing these details could inform me as to why we see a certain district experience high levels of PM one year as opposed to the next. A bias I had was that greater PM meant that there would be industry or certain characteristics in that district that cause it to produce more PM. However, it is important to note that the South Korean government also identifies the PM production from other countries as contributing to their issues with smog and air pollution. Perhaps these external factors are significant influences on PM levels but it is impossible to know with just this dataset. <br>\n",
    "\n",
    "Lastly, I only analyzed data from Seoul. Data from other South Korean cities were difficult to access and find. Seoul is probably the most equipped with resources to collect and deal with this data. Perhaps if I looked at more cities in Korea, I would have been able to see different results for PM levels. This potential outcome could have also affected the correlation between asthma cases and particulate matter. But since my scope was narrowed to Seoul, we cannot necessarily confidently extrapolate the findings to all of South Korea because again, we are not aware of the various geographic, industrial, social factors that impact observed PM levels.\n",
    "\n",
    "#### Implications\n",
    "If PM levels were overall increasing, I would have different implications. However, since we observed that PM levels were generally downward trending, it is not fitting to stress the importance of being more aggressive with trying to control PM levels in Seoul. However, the regression returned that there was a positive correlation between asthma cases and particulate matter so it is worth working to prevent the increase in particulate matter pollution as it not only contributes to health issues but also overall air pollution. <br>\n",
    "\n",
    "Also, with an increase in PM we can see an increase in mitigative technologies like air purifiers in the home. This contributes to energy consumption which can worsen particulate matter. In order to prevent an environmental issue, these technologies exacerbate other environmental issues. It is important to address the source of particulate matter pollution and engage in preventative action as opposed to continuing to invest in mitigative solutions."
   ]
  },
  {
   "cell_type": "markdown",
   "id": "240cec98-b25a-4603-bc07-fd8bd44ec732",
   "metadata": {},
   "source": [
    "### Conclusion\n",
    "The purpose of this project was to explore a data that not many others would be able to analyze due to interest and language. I wanted to explore a pressing environmental issue and its potential effects on public health to derive important findings that could affect my loved ones. I hoped to investigate particulate matter pollution in Seoul, South Korea and its potential connection to asthma cases. <br>\n",
    "\n",
    "I found that over time, PM levels in Seoul are decreasing and that asthma cases are also decreasing in Seoul. I also found that there was a positive correlation between asthma cases and particulate matter. To my surprise, after conducting my analysis I discovered that\n",
    "- _In general, the levels of particulate matter are decreasing across Seoul._\n",
    "- _There isn't a consistent district that can be identified as a leader in microdust pollution. It varies by year and when we look at averages versus sums of particulate matter levels._\n",
    "- _By running a linear regression, we can see that the number of observed asthma cases across Seoul districts and the recorded levels of PM10 and PM2.5 are positively correlated._ <br>\n",
    "\n",
    "Although my findings opposed my hypotheses, it was a valuable experience to work with data I was truly passionate about exploring and to derive findings and then question how the data and my methods led me to those conclusions. "
   ]
  }
 ],
 "metadata": {
  "kernelspec": {
   "display_name": "Python 3 (ipykernel)",
   "language": "python",
   "name": "python3"
  },
  "language_info": {
   "codemirror_mode": {
    "name": "ipython",
    "version": 3
   },
   "file_extension": ".py",
   "mimetype": "text/x-python",
   "name": "python",
   "nbconvert_exporter": "python",
   "pygments_lexer": "ipython3",
   "version": "3.9.7"
  }
 },
 "nbformat": 4,
 "nbformat_minor": 5
}
